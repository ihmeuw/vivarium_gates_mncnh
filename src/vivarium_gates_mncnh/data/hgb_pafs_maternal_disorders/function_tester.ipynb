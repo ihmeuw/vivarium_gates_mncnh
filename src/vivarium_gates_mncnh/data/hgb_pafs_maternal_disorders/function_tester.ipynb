{
 "cells": [
  {
   "cell_type": "code",
   "execution_count": 1,
   "id": "71a6f45e",
   "metadata": {},
   "outputs": [],
   "source": [
    "from hgb_maternal_disorder_paf_generation import *\n",
    "import matplotlib.pyplot as plt"
   ]
  },
  {
   "cell_type": "code",
   "execution_count": 2,
   "id": "6398be88",
   "metadata": {},
   "outputs": [],
   "source": [
    "import warnings\n",
    "\n",
    "warnings.filterwarnings('ignore')"
   ]
  },
  {
   "cell_type": "code",
   "execution_count": 3,
   "id": "691c33a1",
   "metadata": {},
   "outputs": [],
   "source": [
    "draw = 'draw_0'\n",
    "location = 'pakistan'"
   ]
  },
  {
   "cell_type": "code",
   "execution_count": 4,
   "id": "0c07e320",
   "metadata": {},
   "outputs": [],
   "source": [
    "results_directory = os.getcwd() + '/'"
   ]
  },
  {
   "cell_type": "code",
   "execution_count": 5,
   "id": "8ffe5459",
   "metadata": {},
   "outputs": [],
   "source": [
    "#get_simulated_population(location, draw)"
   ]
  },
  {
   "cell_type": "code",
   "execution_count": 7,
   "id": "10d0e3e7",
   "metadata": {},
   "outputs": [
    {
     "name": "stdout",
     "output_type": "stream",
     "text": [
      "\u001b[32m2025-09-15 08:40:29.796\u001b[0m | \u001b[1mINFO    \u001b[0m | \u001b[36msimulation_1\u001b[0m-\u001b[36martifact_manager\u001b[0m:\u001b[36m79\u001b[0m - \u001b[1mRunning simulation from artifact located at /mnt/team/simulation_science/pub/models/vivarium_gates_mncnh/artifacts/model16.0/pakistan.hdf.\u001b[0m\n",
      "\u001b[32m2025-09-15 08:40:29.799\u001b[0m | \u001b[1mINFO    \u001b[0m | \u001b[36msimulation_1\u001b[0m-\u001b[36martifact_manager\u001b[0m:\u001b[36m80\u001b[0m - \u001b[1mArtifact base filter terms are ['draw == 0'].\u001b[0m\n",
      "\u001b[32m2025-09-15 08:40:29.800\u001b[0m | \u001b[1mINFO    \u001b[0m | \u001b[36msimulation_1\u001b[0m-\u001b[36martifact_manager\u001b[0m:\u001b[36m81\u001b[0m - \u001b[1mArtifact additional filter terms are None.\u001b[0m\n",
      "\u001b[32m2025-09-15 08:40:29.799\u001b[0m | \u001b[1mINFO    \u001b[0m | \u001b[36msimulation_1\u001b[0m-\u001b[36martifact_manager\u001b[0m:\u001b[36m80\u001b[0m - \u001b[1mArtifact base filter terms are ['draw == 0'].\u001b[0m\n",
      "\u001b[32m2025-09-15 08:40:29.800\u001b[0m | \u001b[1mINFO    \u001b[0m | \u001b[36msimulation_1\u001b[0m-\u001b[36martifact_manager\u001b[0m:\u001b[36m81\u001b[0m - \u001b[1mArtifact additional filter terms are None.\u001b[0m\n",
      "\u001b[32m2025-09-15 08:41:04.951\u001b[0m | \u001b[33m\u001b[1mWARNING \u001b[0m | \u001b[36msimulation_1\u001b[0m-\u001b[36mresults_manager\u001b[0m:\u001b[36m446\u001b[0m - \u001b[33m\u001b[1mSpecified excluded stratifications are already not included by default: ['stillbirth', 'partial_term']\u001b[0m\n",
      "\u001b[32m2025-09-15 08:41:04.953\u001b[0m | \u001b[33m\u001b[1mWARNING \u001b[0m | \u001b[36msimulation_1\u001b[0m-\u001b[36mresults_manager\u001b[0m:\u001b[36m446\u001b[0m - \u001b[33m\u001b[1mSpecified excluded stratifications are already not included by default: ['stillbirth', 'partial_term']\u001b[0m\n",
      "\u001b[32m2025-09-15 08:41:04.951\u001b[0m | \u001b[33m\u001b[1mWARNING \u001b[0m | \u001b[36msimulation_1\u001b[0m-\u001b[36mresults_manager\u001b[0m:\u001b[36m446\u001b[0m - \u001b[33m\u001b[1mSpecified excluded stratifications are already not included by default: ['stillbirth', 'partial_term']\u001b[0m\n",
      "\u001b[32m2025-09-15 08:41:04.953\u001b[0m | \u001b[33m\u001b[1mWARNING \u001b[0m | \u001b[36msimulation_1\u001b[0m-\u001b[36mresults_manager\u001b[0m:\u001b[36m446\u001b[0m - \u001b[33m\u001b[1mSpecified excluded stratifications are already not included by default: ['stillbirth', 'partial_term']\u001b[0m\n",
      "\u001b[32m2025-09-15 08:41:05.352\u001b[0m | \u001b[1mINFO    \u001b[0m | \u001b[36msimulation_1\u001b[0m-\u001b[36mresults_manager\u001b[0m:\u001b[36m134\u001b[0m - \u001b[1mThe following stratifications are registered but not used by any observers: \n",
      "['sex']\u001b[0m\n",
      "\u001b[32m2025-09-15 08:41:05.352\u001b[0m | \u001b[1mINFO    \u001b[0m | \u001b[36msimulation_1\u001b[0m-\u001b[36mresults_manager\u001b[0m:\u001b[36m134\u001b[0m - \u001b[1mThe following stratifications are registered but not used by any observers: \n",
      "['sex']\u001b[0m\n"
     ]
    },
    {
     "data": {
      "text/plain": [
       "age_group\n",
       "10_to_14    0.359031\n",
       "15_to_19    0.287729\n",
       "20_to_24    0.245374\n",
       "25_to_29    0.250555\n",
       "30_to_34    0.245782\n",
       "35_to_39    0.259342\n",
       "40_to_44    0.268225\n",
       "45_to_49    0.266679\n",
       "other       0.306116\n",
       "Name: hemoglobin_on_maternal_hemorrhage.relative_risk, dtype: float64"
      ]
     },
     "execution_count": 7,
     "metadata": {},
     "output_type": "execute_result"
    }
   ],
   "source": [
    "calculate_paf_hemorrhage(location, draw)"
   ]
  },
  {
   "cell_type": "code",
   "execution_count": 8,
   "id": "b013d747",
   "metadata": {},
   "outputs": [
    {
     "name": "stdout",
     "output_type": "stream",
     "text": [
      "\u001b[32m2025-09-15 08:41:43.035\u001b[0m | \u001b[1mINFO    \u001b[0m | \u001b[36msimulation_2\u001b[0m-\u001b[36martifact_manager\u001b[0m:\u001b[36m79\u001b[0m - \u001b[1mRunning simulation from artifact located at /mnt/team/simulation_science/pub/models/vivarium_gates_mncnh/artifacts/model16.0/pakistan.hdf.\u001b[0m\n",
      "\u001b[32m2025-09-15 08:41:43.036\u001b[0m | \u001b[1mINFO    \u001b[0m | \u001b[36msimulation_2\u001b[0m-\u001b[36martifact_manager\u001b[0m:\u001b[36m80\u001b[0m - \u001b[1mArtifact base filter terms are ['draw == 0'].\u001b[0m\n",
      "\u001b[32m2025-09-15 08:41:43.037\u001b[0m | \u001b[1mINFO    \u001b[0m | \u001b[36msimulation_2\u001b[0m-\u001b[36martifact_manager\u001b[0m:\u001b[36m81\u001b[0m - \u001b[1mArtifact additional filter terms are None.\u001b[0m\n",
      "\u001b[32m2025-09-15 08:41:43.036\u001b[0m | \u001b[1mINFO    \u001b[0m | \u001b[36msimulation_2\u001b[0m-\u001b[36martifact_manager\u001b[0m:\u001b[36m80\u001b[0m - \u001b[1mArtifact base filter terms are ['draw == 0'].\u001b[0m\n",
      "\u001b[32m2025-09-15 08:41:43.037\u001b[0m | \u001b[1mINFO    \u001b[0m | \u001b[36msimulation_2\u001b[0m-\u001b[36martifact_manager\u001b[0m:\u001b[36m81\u001b[0m - \u001b[1mArtifact additional filter terms are None.\u001b[0m\n"
     ]
    },
    {
     "name": "stdout",
     "output_type": "stream",
     "text": [
      "\u001b[32m2025-09-15 08:42:15.627\u001b[0m | \u001b[33m\u001b[1mWARNING \u001b[0m | \u001b[36msimulation_2\u001b[0m-\u001b[36mresults_manager\u001b[0m:\u001b[36m446\u001b[0m - \u001b[33m\u001b[1mSpecified excluded stratifications are already not included by default: ['stillbirth', 'partial_term']\u001b[0m\n",
      "\u001b[32m2025-09-15 08:42:15.629\u001b[0m | \u001b[33m\u001b[1mWARNING \u001b[0m | \u001b[36msimulation_2\u001b[0m-\u001b[36mresults_manager\u001b[0m:\u001b[36m446\u001b[0m - \u001b[33m\u001b[1mSpecified excluded stratifications are already not included by default: ['stillbirth', 'partial_term']\u001b[0m\n",
      "\u001b[32m2025-09-15 08:42:15.629\u001b[0m | \u001b[33m\u001b[1mWARNING \u001b[0m | \u001b[36msimulation_2\u001b[0m-\u001b[36mresults_manager\u001b[0m:\u001b[36m446\u001b[0m - \u001b[33m\u001b[1mSpecified excluded stratifications are already not included by default: ['stillbirth', 'partial_term']\u001b[0m\n",
      "\u001b[32m2025-09-15 08:42:16.027\u001b[0m | \u001b[1mINFO    \u001b[0m | \u001b[36msimulation_2\u001b[0m-\u001b[36mresults_manager\u001b[0m:\u001b[36m134\u001b[0m - \u001b[1mThe following stratifications are registered but not used by any observers: \n",
      "['sex']\u001b[0m\n",
      "\u001b[32m2025-09-15 08:42:16.027\u001b[0m | \u001b[1mINFO    \u001b[0m | \u001b[36msimulation_2\u001b[0m-\u001b[36mresults_manager\u001b[0m:\u001b[36m134\u001b[0m - \u001b[1mThe following stratifications are registered but not used by any observers: \n",
      "['sex']\u001b[0m\n"
     ]
    },
    {
     "data": {
      "text/plain": [
       "age_group\n",
       "10_to_14    0.198284\n",
       "15_to_19    0.161155\n",
       "20_to_24    0.146736\n",
       "25_to_29    0.147361\n",
       "30_to_34    0.144888\n",
       "35_to_39    0.150419\n",
       "40_to_44    0.156080\n",
       "45_to_49    0.155915\n",
       "other       0.168187\n",
       "Name: hemoglobin_on_maternal_sepsis_and_other_maternal_infections.relative_risk, dtype: float64"
      ]
     },
     "execution_count": 8,
     "metadata": {},
     "output_type": "execute_result"
    }
   ],
   "source": [
    "calculate_paf_sepsis(location, draw)"
   ]
  },
  {
   "cell_type": "markdown",
   "id": "580629d9",
   "metadata": {},
   "source": [
    "# Next steps\n",
    "- Add depressive disorders to calculation\n",
    "- Test different population sizes and plot PAFs \n",
    "- Do more testing to figure out if/why PAFs in artifact are so different than PAFs calculated in the interative sim here\n",
    "- Run for all draws, locations, age groups, and outcomes and save new CSVs"
   ]
  }
 ],
 "metadata": {
  "kernelspec": {
   "display_name": "vivarium_gates_mncnh_artifact",
   "language": "python",
   "name": "python3"
  },
  "language_info": {
   "codemirror_mode": {
    "name": "ipython",
    "version": 3
   },
   "file_extension": ".py",
   "mimetype": "text/x-python",
   "name": "python",
   "nbconvert_exporter": "python",
   "pygments_lexer": "ipython3",
   "version": "3.11.13"
  }
 },
 "nbformat": 4,
 "nbformat_minor": 5
}
